{
 "cells": [
  {
   "cell_type": "markdown",
   "metadata": {
    "colab_type": "text",
    "id": "tZMk-RZt-QrI"
   },
   "source": [
    "# Problem 1"
   ]
  },
  {
   "cell_type": "markdown",
   "metadata": {
    "colab_type": "text",
    "id": "I5_NmI6j-QrL"
   },
   "source": [
    "The data set provided to you is the data set of a Café Chain for one of its restaurants. Do a thorough analysis of the data and come up with the following analysis and present it in a PowerPoint deck of 10 – 20 slides.\n",
    "\n",
    "The owner of the restaurant wants you to use this data to come up with a set of recommendations that can help his Café Chain increase his revenues. He has not been able to launch a loyalty program and is unable to provide you with a data set that has customer level information. But, he is able to provide you with a data set for POS (point of sale data) for one of his chains."
   ]
  },
  {
   "cell_type": "markdown",
   "metadata": {
    "colab_type": "text",
    "id": "kmKeQYYcGTVp"
   },
   "source": [
    "### Upload Required Libraries"
   ]
  },
  {
   "cell_type": "code",
   "execution_count": 196,
   "metadata": {
    "ExecuteTime": {
     "end_time": "2020-04-21T05:20:40.244723Z",
     "start_time": "2020-04-21T05:20:38.986089Z"
    },
    "colab": {},
    "colab_type": "code",
    "id": "n6LeoEar-QrM"
   },
   "outputs": [],
   "source": [
    "import numpy as np   \n",
    "import pandas as pd\n",
    "import os\n",
    "\n",
    "import seaborn as sns\n",
    "import matplotlib.pyplot as plt   \n",
    "import matplotlib.style\n",
    "plt.style.use('classic')\n",
    "import sweetviz as sv\n",
    "\n",
    "import warnings\n",
    "warnings.filterwarnings(\"ignore\")"
   ]
  },
  {
   "cell_type": "markdown",
   "metadata": {
    "colab_type": "text",
    "id": "Vbx3QZvT-QrQ"
   },
   "source": [
    "### Importing data"
   ]
  },
  {
   "cell_type": "code",
   "execution_count": 197,
   "metadata": {
    "ExecuteTime": {
     "end_time": "2020-04-21T05:20:40.260682Z",
     "start_time": "2020-04-21T05:20:40.246717Z"
    },
    "colab": {},
    "colab_type": "code",
    "id": "L6Yxhq6b-QrR"
   },
   "outputs": [],
   "source": [
    "## Load the csv file available in the working or specified directory\n",
    "#os.chdir('C:\\\\GL Class\\DSBA - Python\\Machine Learning\\Week 2')\n",
    "df = pd.read_excel('Cafe_Data_MRA.xlsx')"
   ]
  },
  {
   "cell_type": "markdown",
   "metadata": {
    "colab_type": "text",
    "id": "fJ83bnL6-QrV"
   },
   "source": [
    "### EDA"
   ]
  },
  {
   "cell_type": "code",
   "execution_count": 198,
   "metadata": {
    "ExecuteTime": {
     "end_time": "2020-04-21T05:20:40.345456Z",
     "start_time": "2020-04-21T05:20:40.262678Z"
    },
    "colab": {
     "base_uri": "https://localhost:8080/",
     "height": 200
    },
    "colab_type": "code",
    "id": "K1p4lqVm-QrW",
    "outputId": "6bc753bb-cb79-451b-f333-6883418111ef"
   },
   "outputs": [
    {
     "data": {
      "text/html": [
       "<div>\n",
       "<style scoped>\n",
       "    .dataframe tbody tr th:only-of-type {\n",
       "        vertical-align: middle;\n",
       "    }\n",
       "\n",
       "    .dataframe tbody tr th {\n",
       "        vertical-align: top;\n",
       "    }\n",
       "\n",
       "    .dataframe thead th {\n",
       "        text-align: right;\n",
       "    }\n",
       "</style>\n",
       "<table border=\"1\" class=\"dataframe\">\n",
       "  <thead>\n",
       "    <tr style=\"text-align: right;\">\n",
       "      <th></th>\n",
       "      <th>Date</th>\n",
       "      <th>Bill Number</th>\n",
       "      <th>Item Desc</th>\n",
       "      <th>Time</th>\n",
       "      <th>Quantity</th>\n",
       "      <th>Rate</th>\n",
       "      <th>Tax</th>\n",
       "      <th>Discount</th>\n",
       "      <th>Total</th>\n",
       "      <th>Category</th>\n",
       "    </tr>\n",
       "  </thead>\n",
       "  <tbody>\n",
       "    <tr>\n",
       "      <th>0</th>\n",
       "      <td>2010-04-01</td>\n",
       "      <td>G0470115</td>\n",
       "      <td>QUA  MINERAL WATER(1000ML)</td>\n",
       "      <td>13:15:11</td>\n",
       "      <td>1</td>\n",
       "      <td>50.0</td>\n",
       "      <td>11.88</td>\n",
       "      <td>0.0</td>\n",
       "      <td>61.88</td>\n",
       "      <td>BEVERAGE</td>\n",
       "    </tr>\n",
       "    <tr>\n",
       "      <th>1</th>\n",
       "      <td>2010-04-01</td>\n",
       "      <td>G0470115</td>\n",
       "      <td>MONSOON MALABAR (AULAIT)</td>\n",
       "      <td>13:15:11</td>\n",
       "      <td>1</td>\n",
       "      <td>100.0</td>\n",
       "      <td>23.75</td>\n",
       "      <td>0.0</td>\n",
       "      <td>123.75</td>\n",
       "      <td>BEVERAGE</td>\n",
       "    </tr>\n",
       "    <tr>\n",
       "      <th>2</th>\n",
       "      <td>2010-04-01</td>\n",
       "      <td>G0470116</td>\n",
       "      <td>MASALA CHAI CUTTING</td>\n",
       "      <td>13:17:35</td>\n",
       "      <td>1</td>\n",
       "      <td>40.0</td>\n",
       "      <td>9.50</td>\n",
       "      <td>0.0</td>\n",
       "      <td>49.50</td>\n",
       "      <td>BEVERAGE</td>\n",
       "    </tr>\n",
       "    <tr>\n",
       "      <th>3</th>\n",
       "      <td>2010-04-01</td>\n",
       "      <td>G0470117</td>\n",
       "      <td>QUA  MINERAL WATER(1000ML)</td>\n",
       "      <td>13:19:55</td>\n",
       "      <td>1</td>\n",
       "      <td>50.0</td>\n",
       "      <td>11.88</td>\n",
       "      <td>0.0</td>\n",
       "      <td>61.88</td>\n",
       "      <td>BEVERAGE</td>\n",
       "    </tr>\n",
       "    <tr>\n",
       "      <th>4</th>\n",
       "      <td>2010-04-01</td>\n",
       "      <td>G0470283</td>\n",
       "      <td>MOROCCAN MINT TEA</td>\n",
       "      <td>01:20:18</td>\n",
       "      <td>1</td>\n",
       "      <td>45.0</td>\n",
       "      <td>10.69</td>\n",
       "      <td>0.0</td>\n",
       "      <td>55.69</td>\n",
       "      <td>BEVERAGE</td>\n",
       "    </tr>\n",
       "  </tbody>\n",
       "</table>\n",
       "</div>"
      ],
      "text/plain": [
       "        Date Bill Number                        Item Desc      Time  Quantity  \\\n",
       "0 2010-04-01     G0470115  QUA  MINERAL WATER(1000ML)      13:15:11         1   \n",
       "1 2010-04-01     G0470115  MONSOON MALABAR (AULAIT)        13:15:11         1   \n",
       "2 2010-04-01     G0470116  MASALA CHAI CUTTING             13:17:35         1   \n",
       "3 2010-04-01     G0470117  QUA  MINERAL WATER(1000ML)      13:19:55         1   \n",
       "4 2010-04-01     G0470283  MOROCCAN MINT TEA               01:20:18         1   \n",
       "\n",
       "    Rate    Tax  Discount   Total  Category  \n",
       "0   50.0  11.88       0.0   61.88  BEVERAGE  \n",
       "1  100.0  23.75       0.0  123.75  BEVERAGE  \n",
       "2   40.0   9.50       0.0   49.50  BEVERAGE  \n",
       "3   50.0  11.88       0.0   61.88  BEVERAGE  \n",
       "4   45.0  10.69       0.0   55.69  BEVERAGE  "
      ]
     },
     "execution_count": 198,
     "metadata": {},
     "output_type": "execute_result"
    }
   ],
   "source": [
    "# Check top few records to get a feel of the data structure\n",
    "df.head()"
   ]
  },
  {
   "cell_type": "markdown",
   "metadata": {},
   "source": [
    "\n",
    "#### Shape"
   ]
  },
  {
   "cell_type": "code",
   "execution_count": 199,
   "metadata": {
    "ExecuteTime": {
     "end_time": "2020-04-21T05:20:40.419257Z",
     "start_time": "2020-04-21T05:20:40.347448Z"
    }
   },
   "outputs": [
    {
     "name": "stdout",
     "output_type": "stream",
     "text": [
      "no. of rows:  145830 \n",
      "no. of columns:  10\n"
     ]
    }
   ],
   "source": [
    "print(\"no. of rows: \",df.shape[0], \"\\n\"\"no. of columns: \",df.shape[1])"
   ]
  },
  {
   "cell_type": "markdown",
   "metadata": {},
   "source": [
    "#### Data type of data features"
   ]
  },
  {
   "cell_type": "code",
   "execution_count": 200,
   "metadata": {
    "ExecuteTime": {
     "end_time": "2020-04-21T05:20:40.596781Z",
     "start_time": "2020-04-21T05:20:40.420255Z"
    },
    "colab": {
     "base_uri": "https://localhost:8080/",
     "height": 301
    },
    "colab_type": "code",
    "id": "4x7gT9wu-Qrg",
    "outputId": "7d23449b-de7a-4831-8ef8-a7091c2655db"
   },
   "outputs": [
    {
     "name": "stdout",
     "output_type": "stream",
     "text": [
      "<class 'pandas.core.frame.DataFrame'>\n",
      "RangeIndex: 145830 entries, 0 to 145829\n",
      "Data columns (total 10 columns):\n",
      " #   Column        Non-Null Count   Dtype         \n",
      "---  ------        --------------   -----         \n",
      " 0   Date          145830 non-null  datetime64[ns]\n",
      " 1   Bill Number   145830 non-null  object        \n",
      " 2   Item Desc     145830 non-null  object        \n",
      " 3   Time          145830 non-null  object        \n",
      " 4   Quantity      145830 non-null  int64         \n",
      " 5   Rate          145830 non-null  float64       \n",
      " 6   Tax           145830 non-null  float64       \n",
      " 7   Discount      145830 non-null  float64       \n",
      " 8   Total         145830 non-null  float64       \n",
      " 9   Category      145830 non-null  object        \n",
      "dtypes: datetime64[ns](1), float64(4), int64(1), object(4)\n",
      "memory usage: 11.1+ MB\n"
     ]
    }
   ],
   "source": [
    "df.info()"
   ]
  },
  {
   "cell_type": "markdown",
   "metadata": {},
   "source": [
    "#### Making different list for categorical columns and numerical columns\n"
   ]
  },
  {
   "cell_type": "code",
   "execution_count": 201,
   "metadata": {
    "ExecuteTime": {
     "end_time": "2020-04-21T05:20:41.678920Z",
     "start_time": "2020-04-21T05:20:41.602092Z"
    }
   },
   "outputs": [
    {
     "name": "stdout",
     "output_type": "stream",
     "text": [
      "['Bill Number ', 'Item Desc', 'Time', 'Category']\n",
      "['Quantity', 'Rate', 'Tax', 'Discount', 'Total']\n",
      "['Date']\n"
     ]
    }
   ],
   "source": [
    "cat=[]\n",
    "num=[]\n",
    "dat=[]\n",
    "for i in df.columns:\n",
    "    if df[i].dtype==\"object\":\n",
    "        cat.append(i)\n",
    "    elif df[i].dtype==\"datetime64[ns]\":\n",
    "        dat.append(i)\n",
    "    else:\n",
    "        num.append(i)\n",
    "print(cat) \n",
    "print(num)\n",
    "print(dat)"
   ]
  },
  {
   "cell_type": "markdown",
   "metadata": {},
   "source": [
    "#### Describe for numerical and categorical columns"
   ]
  },
  {
   "cell_type": "code",
   "execution_count": 202,
   "metadata": {
    "ExecuteTime": {
     "end_time": "2020-04-21T05:20:41.801560Z",
     "start_time": "2020-04-21T05:20:41.679885Z"
    }
   },
   "outputs": [
    {
     "data": {
      "text/html": [
       "<div>\n",
       "<style scoped>\n",
       "    .dataframe tbody tr th:only-of-type {\n",
       "        vertical-align: middle;\n",
       "    }\n",
       "\n",
       "    .dataframe tbody tr th {\n",
       "        vertical-align: top;\n",
       "    }\n",
       "\n",
       "    .dataframe thead th {\n",
       "        text-align: right;\n",
       "    }\n",
       "</style>\n",
       "<table border=\"1\" class=\"dataframe\">\n",
       "  <thead>\n",
       "    <tr style=\"text-align: right;\">\n",
       "      <th></th>\n",
       "      <th>count</th>\n",
       "      <th>mean</th>\n",
       "      <th>std</th>\n",
       "      <th>min</th>\n",
       "      <th>25%</th>\n",
       "      <th>50%</th>\n",
       "      <th>75%</th>\n",
       "      <th>max</th>\n",
       "    </tr>\n",
       "  </thead>\n",
       "  <tbody>\n",
       "    <tr>\n",
       "      <th>Quantity</th>\n",
       "      <td>145830.0</td>\n",
       "      <td>1.121299</td>\n",
       "      <td>0.477237</td>\n",
       "      <td>1.00</td>\n",
       "      <td>1.00</td>\n",
       "      <td>1.00</td>\n",
       "      <td>1.0</td>\n",
       "      <td>30.00</td>\n",
       "    </tr>\n",
       "    <tr>\n",
       "      <th>Rate</th>\n",
       "      <td>145830.0</td>\n",
       "      <td>161.782259</td>\n",
       "      <td>102.244631</td>\n",
       "      <td>0.01</td>\n",
       "      <td>95.00</td>\n",
       "      <td>125.00</td>\n",
       "      <td>225.0</td>\n",
       "      <td>2100.00</td>\n",
       "    </tr>\n",
       "    <tr>\n",
       "      <th>Tax</th>\n",
       "      <td>145830.0</td>\n",
       "      <td>48.929061</td>\n",
       "      <td>40.272851</td>\n",
       "      <td>0.00</td>\n",
       "      <td>22.56</td>\n",
       "      <td>32.06</td>\n",
       "      <td>72.0</td>\n",
       "      <td>2731.25</td>\n",
       "    </tr>\n",
       "    <tr>\n",
       "      <th>Discount</th>\n",
       "      <td>145830.0</td>\n",
       "      <td>0.095079</td>\n",
       "      <td>3.720735</td>\n",
       "      <td>0.00</td>\n",
       "      <td>0.00</td>\n",
       "      <td>0.00</td>\n",
       "      <td>0.0</td>\n",
       "      <td>825.00</td>\n",
       "    </tr>\n",
       "    <tr>\n",
       "      <th>Total</th>\n",
       "      <td>145830.0</td>\n",
       "      <td>224.959852</td>\n",
       "      <td>164.960776</td>\n",
       "      <td>0.01</td>\n",
       "      <td>117.56</td>\n",
       "      <td>167.06</td>\n",
       "      <td>315.0</td>\n",
       "      <td>14231.25</td>\n",
       "    </tr>\n",
       "  </tbody>\n",
       "</table>\n",
       "</div>"
      ],
      "text/plain": [
       "             count        mean         std   min     25%     50%    75%  \\\n",
       "Quantity  145830.0    1.121299    0.477237  1.00    1.00    1.00    1.0   \n",
       "Rate      145830.0  161.782259  102.244631  0.01   95.00  125.00  225.0   \n",
       "Tax       145830.0   48.929061   40.272851  0.00   22.56   32.06   72.0   \n",
       "Discount  145830.0    0.095079    3.720735  0.00    0.00    0.00    0.0   \n",
       "Total     145830.0  224.959852  164.960776  0.01  117.56  167.06  315.0   \n",
       "\n",
       "               max  \n",
       "Quantity     30.00  \n",
       "Rate       2100.00  \n",
       "Tax        2731.25  \n",
       "Discount    825.00  \n",
       "Total     14231.25  "
      ]
     },
     "execution_count": 202,
     "metadata": {},
     "output_type": "execute_result"
    }
   ],
   "source": [
    "df[num].describe().T"
   ]
  },
  {
   "cell_type": "code",
   "execution_count": 203,
   "metadata": {
    "ExecuteTime": {
     "end_time": "2020-04-21T05:20:41.973100Z",
     "start_time": "2020-04-21T05:20:41.802555Z"
    }
   },
   "outputs": [
    {
     "data": {
      "text/html": [
       "<div>\n",
       "<style scoped>\n",
       "    .dataframe tbody tr th:only-of-type {\n",
       "        vertical-align: middle;\n",
       "    }\n",
       "\n",
       "    .dataframe tbody tr th {\n",
       "        vertical-align: top;\n",
       "    }\n",
       "\n",
       "    .dataframe thead th {\n",
       "        text-align: right;\n",
       "    }\n",
       "</style>\n",
       "<table border=\"1\" class=\"dataframe\">\n",
       "  <thead>\n",
       "    <tr style=\"text-align: right;\">\n",
       "      <th></th>\n",
       "      <th>count</th>\n",
       "      <th>unique</th>\n",
       "      <th>top</th>\n",
       "      <th>freq</th>\n",
       "    </tr>\n",
       "  </thead>\n",
       "  <tbody>\n",
       "    <tr>\n",
       "      <th>Bill Number</th>\n",
       "      <td>145830</td>\n",
       "      <td>69982</td>\n",
       "      <td>G0518006</td>\n",
       "      <td>23</td>\n",
       "    </tr>\n",
       "    <tr>\n",
       "      <th>Item Desc</th>\n",
       "      <td>145830</td>\n",
       "      <td>580</td>\n",
       "      <td>NIRVANA HOOKAH SINGLE</td>\n",
       "      <td>8553</td>\n",
       "    </tr>\n",
       "    <tr>\n",
       "      <th>Time</th>\n",
       "      <td>145830</td>\n",
       "      <td>36200</td>\n",
       "      <td>22:25:36</td>\n",
       "      <td>33</td>\n",
       "    </tr>\n",
       "    <tr>\n",
       "      <th>Category</th>\n",
       "      <td>145830</td>\n",
       "      <td>9</td>\n",
       "      <td>FOOD</td>\n",
       "      <td>57023</td>\n",
       "    </tr>\n",
       "  </tbody>\n",
       "</table>\n",
       "</div>"
      ],
      "text/plain": [
       "               count unique                             top   freq\n",
       "Bill Number   145830  69982                        G0518006     23\n",
       "Item Desc     145830    580  NIRVANA HOOKAH SINGLE            8553\n",
       "Time          145830  36200                        22:25:36     33\n",
       "Category      145830      9                            FOOD  57023"
      ]
     },
     "execution_count": 203,
     "metadata": {},
     "output_type": "execute_result"
    }
   ],
   "source": [
    "df[cat].describe().T"
   ]
  },
  {
   "cell_type": "markdown",
   "metadata": {
    "colab_type": "text",
    "id": "OHE49wx_-Qrn"
   },
   "source": [
    "### unique values for categorical variables"
   ]
  },
  {
   "cell_type": "code",
   "execution_count": 204,
   "metadata": {
    "ExecuteTime": {
     "end_time": "2020-04-21T05:20:42.090785Z",
     "start_time": "2020-04-21T05:20:41.974098Z"
    },
    "colab": {
     "base_uri": "https://localhost:8080/",
     "height": 586
    },
    "colab_type": "code",
    "id": "JVHWFRO6-Qro",
    "outputId": "83c313de-947f-43cb-8b99-ba3643a6eeef",
    "scrolled": true
   },
   "outputs": [
    {
     "name": "stdout",
     "output_type": "stream",
     "text": [
      "BILL NUMBER  :  69982\n",
      "G0484999     1\n",
      "G0530270     1\n",
      "G0484497     1\n",
      "G0514674     1\n",
      "G0492504     1\n",
      "            ..\n",
      "G0495644    18\n",
      "G0526679    19\n",
      "G0489943    21\n",
      "G0490530    23\n",
      "G0518006    23\n",
      "Name: Bill Number , Length: 69982, dtype: int64\n",
      "\n",
      "\n",
      "ITEM DESC :  580\n",
      "1+1 VLN CAB SAUV (BTL)                     1\n",
      "ETCHED LEAF TLIGHT HOLDER                  1\n",
      "DECAFFINATE COFFEE FRAPPE                  1\n",
      "CH CRICKET NOTEBOOK                        1\n",
      "INDIA KINGS OCEAN BLUE                     1\n",
      "                                        ... \n",
      "SAMBUCA                                 4425\n",
      "GREAT LAKES SHAKE                       4895\n",
      "CAPPUCCINO                              5495\n",
      "MINT FLAVOUR SINGLE                     5817\n",
      "NIRVANA HOOKAH SINGLE                   8553\n",
      "Name: Item Desc, Length: 580, dtype: int64\n",
      "\n",
      "\n",
      "TIME :  36200\n",
      "16:49:34     1\n",
      "11:35:12     1\n",
      "14:15:27     1\n",
      "22:14:22     1\n",
      "16:04:54     1\n",
      "            ..\n",
      "21:07:44    25\n",
      "23:02:58    26\n",
      "22:58:37    29\n",
      "23:35:33    30\n",
      "22:25:36    33\n",
      "Name: Time, Length: 36200, dtype: int64\n",
      "\n",
      "\n",
      "CATEGORY :  9\n",
      "LIQUOR                  1\n",
      "LIQUOR & TOBACCO       54\n",
      "MERCHANDISE           487\n",
      "WINES                 809\n",
      "MISC                 1187\n",
      "LIQUOR               6200\n",
      "TOBACCO             36496\n",
      "BEVERAGE            43573\n",
      "FOOD                57023\n",
      "Name: Category, dtype: int64\n",
      "\n",
      "\n"
     ]
    }
   ],
   "source": [
    "for column in df.columns:\n",
    "    if df[column].dtype == 'object':\n",
    "        print(column.upper(),': ',df[column].nunique())\n",
    "        print(df[column].value_counts().sort_values())\n",
    "        print('\\n')"
   ]
  },
  {
   "cell_type": "code",
   "execution_count": 205,
   "metadata": {},
   "outputs": [
    {
     "data": {
      "text/html": [
       "<div>\n",
       "<style scoped>\n",
       "    .dataframe tbody tr th:only-of-type {\n",
       "        vertical-align: middle;\n",
       "    }\n",
       "\n",
       "    .dataframe tbody tr th {\n",
       "        vertical-align: top;\n",
       "    }\n",
       "\n",
       "    .dataframe thead th {\n",
       "        text-align: right;\n",
       "    }\n",
       "</style>\n",
       "<table border=\"1\" class=\"dataframe\">\n",
       "  <thead>\n",
       "    <tr style=\"text-align: right;\">\n",
       "      <th></th>\n",
       "      <th>Date</th>\n",
       "      <th>Bill Number</th>\n",
       "      <th>Item Desc</th>\n",
       "      <th>Time</th>\n",
       "      <th>Quantity</th>\n",
       "      <th>Rate</th>\n",
       "      <th>Tax</th>\n",
       "      <th>Discount</th>\n",
       "      <th>Total</th>\n",
       "      <th>Category</th>\n",
       "    </tr>\n",
       "  </thead>\n",
       "  <tbody>\n",
       "    <tr>\n",
       "      <th>258</th>\n",
       "      <td>2010-04-01</td>\n",
       "      <td>N0027835</td>\n",
       "      <td>CARLSBERG</td>\n",
       "      <td>13:37:13</td>\n",
       "      <td>1</td>\n",
       "      <td>120.0</td>\n",
       "      <td>37.50</td>\n",
       "      <td>0.0</td>\n",
       "      <td>157.50</td>\n",
       "      <td>LIQUOR</td>\n",
       "    </tr>\n",
       "    <tr>\n",
       "      <th>259</th>\n",
       "      <td>2010-04-01</td>\n",
       "      <td>N0027836</td>\n",
       "      <td>CARLSBERG</td>\n",
       "      <td>13:55:17</td>\n",
       "      <td>1</td>\n",
       "      <td>120.0</td>\n",
       "      <td>37.50</td>\n",
       "      <td>0.0</td>\n",
       "      <td>157.50</td>\n",
       "      <td>LIQUOR</td>\n",
       "    </tr>\n",
       "    <tr>\n",
       "      <th>260</th>\n",
       "      <td>2010-04-01</td>\n",
       "      <td>N0027837</td>\n",
       "      <td>TUBORG</td>\n",
       "      <td>15:30:42</td>\n",
       "      <td>2</td>\n",
       "      <td>100.0</td>\n",
       "      <td>62.50</td>\n",
       "      <td>0.0</td>\n",
       "      <td>262.50</td>\n",
       "      <td>LIQUOR</td>\n",
       "    </tr>\n",
       "    <tr>\n",
       "      <th>261</th>\n",
       "      <td>2010-04-01</td>\n",
       "      <td>N0027838</td>\n",
       "      <td>TUBORG</td>\n",
       "      <td>16:16:40</td>\n",
       "      <td>1</td>\n",
       "      <td>100.0</td>\n",
       "      <td>31.25</td>\n",
       "      <td>0.0</td>\n",
       "      <td>131.25</td>\n",
       "      <td>LIQUOR</td>\n",
       "    </tr>\n",
       "    <tr>\n",
       "      <th>262</th>\n",
       "      <td>2010-04-01</td>\n",
       "      <td>N0027840</td>\n",
       "      <td>CARLSBERG</td>\n",
       "      <td>18:57:51</td>\n",
       "      <td>1</td>\n",
       "      <td>120.0</td>\n",
       "      <td>37.50</td>\n",
       "      <td>0.0</td>\n",
       "      <td>157.50</td>\n",
       "      <td>LIQUOR</td>\n",
       "    </tr>\n",
       "    <tr>\n",
       "      <th>...</th>\n",
       "      <td>...</td>\n",
       "      <td>...</td>\n",
       "      <td>...</td>\n",
       "      <td>...</td>\n",
       "      <td>...</td>\n",
       "      <td>...</td>\n",
       "      <td>...</td>\n",
       "      <td>...</td>\n",
       "      <td>...</td>\n",
       "      <td>...</td>\n",
       "    </tr>\n",
       "    <tr>\n",
       "      <th>145825</th>\n",
       "      <td>2010-05-22</td>\n",
       "      <td>N0028716</td>\n",
       "      <td>ZINZI WHITE  (GLS)</td>\n",
       "      <td>21:43:55</td>\n",
       "      <td>2</td>\n",
       "      <td>150.0</td>\n",
       "      <td>78.00</td>\n",
       "      <td>0.0</td>\n",
       "      <td>378.00</td>\n",
       "      <td>LIQUOR</td>\n",
       "    </tr>\n",
       "    <tr>\n",
       "      <th>145826</th>\n",
       "      <td>2010-04-27</td>\n",
       "      <td>N0028343</td>\n",
       "      <td>ZINZI WHITE  (GLS)</td>\n",
       "      <td>20:52:11</td>\n",
       "      <td>2</td>\n",
       "      <td>150.0</td>\n",
       "      <td>78.00</td>\n",
       "      <td>0.0</td>\n",
       "      <td>378.00</td>\n",
       "      <td>LIQUOR</td>\n",
       "    </tr>\n",
       "    <tr>\n",
       "      <th>145827</th>\n",
       "      <td>2010-05-28</td>\n",
       "      <td>N0028835</td>\n",
       "      <td>ZINZI WHITE  (GLS)</td>\n",
       "      <td>01:03:37</td>\n",
       "      <td>3</td>\n",
       "      <td>150.0</td>\n",
       "      <td>117.00</td>\n",
       "      <td>0.0</td>\n",
       "      <td>567.00</td>\n",
       "      <td>LIQUOR</td>\n",
       "    </tr>\n",
       "    <tr>\n",
       "      <th>145828</th>\n",
       "      <td>2010-04-30</td>\n",
       "      <td>N0028399</td>\n",
       "      <td>ZINZI WHITE  (GLS)</td>\n",
       "      <td>23:44:37</td>\n",
       "      <td>1</td>\n",
       "      <td>150.0</td>\n",
       "      <td>39.00</td>\n",
       "      <td>0.0</td>\n",
       "      <td>189.00</td>\n",
       "      <td>LIQUOR</td>\n",
       "    </tr>\n",
       "    <tr>\n",
       "      <th>145829</th>\n",
       "      <td>2010-07-09</td>\n",
       "      <td>N0029472</td>\n",
       "      <td>ZINZI WHITE (BTL)</td>\n",
       "      <td>00:31:51</td>\n",
       "      <td>1</td>\n",
       "      <td>700.0</td>\n",
       "      <td>182.00</td>\n",
       "      <td>0.0</td>\n",
       "      <td>882.00</td>\n",
       "      <td>LIQUOR</td>\n",
       "    </tr>\n",
       "  </tbody>\n",
       "</table>\n",
       "<p>6200 rows × 10 columns</p>\n",
       "</div>"
      ],
      "text/plain": [
       "             Date Bill Number                        Item Desc      Time  \\\n",
       "258    2010-04-01     N0027835  CARLSBERG                       13:37:13   \n",
       "259    2010-04-01     N0027836  CARLSBERG                       13:55:17   \n",
       "260    2010-04-01     N0027837  TUBORG                          15:30:42   \n",
       "261    2010-04-01     N0027838  TUBORG                          16:16:40   \n",
       "262    2010-04-01     N0027840  CARLSBERG                       18:57:51   \n",
       "...           ...          ...                             ...       ...   \n",
       "145825 2010-05-22     N0028716  ZINZI WHITE  (GLS)              21:43:55   \n",
       "145826 2010-04-27     N0028343  ZINZI WHITE  (GLS)              20:52:11   \n",
       "145827 2010-05-28     N0028835  ZINZI WHITE  (GLS)              01:03:37   \n",
       "145828 2010-04-30     N0028399  ZINZI WHITE  (GLS)              23:44:37   \n",
       "145829 2010-07-09     N0029472  ZINZI WHITE (BTL)               00:31:51   \n",
       "\n",
       "        Quantity   Rate     Tax  Discount   Total Category  \n",
       "258            1  120.0   37.50       0.0  157.50   LIQUOR  \n",
       "259            1  120.0   37.50       0.0  157.50   LIQUOR  \n",
       "260            2  100.0   62.50       0.0  262.50   LIQUOR  \n",
       "261            1  100.0   31.25       0.0  131.25   LIQUOR  \n",
       "262            1  120.0   37.50       0.0  157.50   LIQUOR  \n",
       "...          ...    ...     ...       ...     ...      ...  \n",
       "145825         2  150.0   78.00       0.0  378.00   LIQUOR  \n",
       "145826         2  150.0   78.00       0.0  378.00   LIQUOR  \n",
       "145827         3  150.0  117.00       0.0  567.00   LIQUOR  \n",
       "145828         1  150.0   39.00       0.0  189.00   LIQUOR  \n",
       "145829         1  700.0  182.00       0.0  882.00   LIQUOR  \n",
       "\n",
       "[6200 rows x 10 columns]"
      ]
     },
     "execution_count": 205,
     "metadata": {},
     "output_type": "execute_result"
    }
   ],
   "source": [
    "df[df['Category']  == 'LIQUOR']"
   ]
  },
  {
   "cell_type": "code",
   "execution_count": 206,
   "metadata": {},
   "outputs": [
    {
     "data": {
      "text/plain": [
       "ADD ON S                                379\n",
       "PLAIN JANE (CHOCOLATE)                  159\n",
       "ADD HERB ROAST CHICKEN                  158\n",
       "PLAIN  JANE (STRAWBERRY)                 95\n",
       "RED BULL SHEESHA                         91\n",
       "PLAIN JANES (VANILLA)                    66\n",
       "ROSE FLAVORS SINGLE                      44\n",
       "ADD POTATO WEDGES                        34\n",
       "KF DRAFT MUG                             23\n",
       "GUAVA                                    22\n",
       "MM SALSA SHEESHA                         12\n",
       "PEACH BULL                               11\n",
       "PAAN SHEESHA                             10\n",
       "ICE BERG SHEESHA                         10\n",
       "ADD TRADITIONAL MEAT FEAST                8\n",
       "GREAT LAKES STAMP DAIRY                   7\n",
       "1 AXE TWIST                               6\n",
       "ADD CHICKEN BACON                         4\n",
       "ENG BREAKFAST TEA                         4\n",
       "ADD GROUND MEAT                           3\n",
       "LEMON INFUSED CHAR GRILLED VEG            3\n",
       "GREEK GYROS CRUSTINI                      2\n",
       "PHILADELPHIA CREAM CHEESECAKE             2\n",
       "QUESO CROQUETAS FRITOS                    2\n",
       "HOTDOG WRAP                               2\n",
       "FISH FINGER                               2\n",
       "GIN (SM)                                  2\n",
       "NUTELLA CREPES                            2\n",
       "POLLO CON AIOLI                           2\n",
       "DARK RUM (SM)                             2\n",
       "ROAST CHICKEN SALAD                       2\n",
       "ORANGE ARRABIATA                          2\n",
       "M & M SHAKE                               1\n",
       "RED BULL 2+1                              1\n",
       "PARTY CHARGES @ 500/-                     1\n",
       "JAPANESE YAKITORI WRAP                    1\n",
       "POLLO PELOTA CON TAMATE SALSA             1\n",
       "GNOCCHI CON POMMODORO                     1\n",
       "GRAPPO SHEESHA                            1\n",
       "ITALIAN CAPONATA PANINO                   1\n",
       "ROMA TOMATO & JALAPENO CROQUE             1\n",
       "MEDITER RANEAN PANINO                     1\n",
       "MEXICAN CHILLY CREPES                     1\n",
       "MANGO FLAVOUR SINGLE                      1\n",
       "HOEGAARDEN GLS (2+1)                      1\n",
       "RASPBERRY LITE SHAKE                      1\n",
       "RED SANGRIA (CARAFE) áááááááá             1\n",
       "HOEGAARDEN LTR MUGS (2+1)                 1\n",
       "Name: Item Desc, dtype: int64"
      ]
     },
     "execution_count": 206,
     "metadata": {},
     "output_type": "execute_result"
    }
   ],
   "source": [
    "df[df['Category'] == 'MISC']['Item Desc'].value_counts()"
   ]
  },
  {
   "cell_type": "markdown",
   "metadata": {},
   "source": [
    "### Data Cleaning"
   ]
  },
  {
   "cell_type": "code",
   "execution_count": 207,
   "metadata": {},
   "outputs": [],
   "source": [
    "df.Category = df.Category.replace('LIQUOR ','LIQUOR')"
   ]
  },
  {
   "cell_type": "code",
   "execution_count": 208,
   "metadata": {},
   "outputs": [],
   "source": [
    "df['Category'] = df.apply(lambda row: 'BEVERAGE' if 'SHAKE' in row['Item Desc'] else row['Category'],axis=1)"
   ]
  },
  {
   "cell_type": "code",
   "execution_count": 209,
   "metadata": {},
   "outputs": [],
   "source": [
    "df['Category'] = df.apply(lambda row: 'TOBACCO' if 'HOOKAH' in row['Item Desc'] else row['Category'],axis=1)"
   ]
  },
  {
   "cell_type": "code",
   "execution_count": 210,
   "metadata": {},
   "outputs": [],
   "source": [
    "df['Category'] = df.apply(lambda row: 'TOBACCO' if 'SHEESHA' in row['Item Desc'] else row['Category'],axis=1)"
   ]
  },
  {
   "cell_type": "code",
   "execution_count": 229,
   "metadata": {},
   "outputs": [
    {
     "data": {
      "text/html": [
       "<div>\n",
       "<style scoped>\n",
       "    .dataframe tbody tr th:only-of-type {\n",
       "        vertical-align: middle;\n",
       "    }\n",
       "\n",
       "    .dataframe tbody tr th {\n",
       "        vertical-align: top;\n",
       "    }\n",
       "\n",
       "    .dataframe thead th {\n",
       "        text-align: right;\n",
       "    }\n",
       "</style>\n",
       "<table border=\"1\" class=\"dataframe\">\n",
       "  <thead>\n",
       "    <tr style=\"text-align: right;\">\n",
       "      <th></th>\n",
       "      <th>Date</th>\n",
       "      <th>Bill Number</th>\n",
       "      <th>Item Desc</th>\n",
       "      <th>Time</th>\n",
       "      <th>Quantity</th>\n",
       "      <th>Rate</th>\n",
       "      <th>Tax</th>\n",
       "      <th>Discount</th>\n",
       "      <th>Total</th>\n",
       "      <th>Category</th>\n",
       "    </tr>\n",
       "  </thead>\n",
       "  <tbody>\n",
       "    <tr>\n",
       "      <th>130541</th>\n",
       "      <td>2010-06-28</td>\n",
       "      <td>G0484368</td>\n",
       "      <td>SHAKE GLASS</td>\n",
       "      <td>23:25:09</td>\n",
       "      <td>1</td>\n",
       "      <td>250.0</td>\n",
       "      <td>31.25</td>\n",
       "      <td>0.0</td>\n",
       "      <td>281.25</td>\n",
       "      <td>BEVERAGE</td>\n",
       "    </tr>\n",
       "  </tbody>\n",
       "</table>\n",
       "</div>"
      ],
      "text/plain": [
       "             Date Bill Number                        Item Desc      Time  \\\n",
       "130541 2010-06-28     G0484368  SHAKE GLASS                     23:25:09   \n",
       "\n",
       "        Quantity   Rate    Tax  Discount   Total  Category  \n",
       "130541         1  250.0  31.25       0.0  281.25  BEVERAGE  "
      ]
     },
     "execution_count": 229,
     "metadata": {},
     "output_type": "execute_result"
    }
   ],
   "source": [
    "df[df['Item Desc'] == 'SHAKE GLASS                   ']"
   ]
  },
  {
   "cell_type": "code",
   "execution_count": 230,
   "metadata": {},
   "outputs": [],
   "source": [
    "df.loc[df['Item Desc'] == \"SHAKE GLASS                   \", \"Category\"] = \"MERCHANDISE\""
   ]
  },
  {
   "cell_type": "code",
   "execution_count": 211,
   "metadata": {
    "ExecuteTime": {
     "end_time": "2020-04-21T05:20:42.156609Z",
     "start_time": "2020-04-21T05:20:42.091783Z"
    },
    "colab": {
     "base_uri": "https://localhost:8080/",
     "height": 515
    },
    "colab_type": "code",
    "id": "6aykwVT9-Qr4",
    "outputId": "a5c0b365-fdfa-4401-a06a-f104bc5bd303"
   },
   "outputs": [
    {
     "data": {
      "text/plain": [
       "Date            0\n",
       "Bill Number     0\n",
       "Item Desc       0\n",
       "Time            0\n",
       "Quantity        0\n",
       "Rate            0\n",
       "Tax             0\n",
       "Discount        0\n",
       "Total           0\n",
       "Category        0\n",
       "dtype: int64"
      ]
     },
     "execution_count": 211,
     "metadata": {},
     "output_type": "execute_result"
    }
   ],
   "source": [
    "# Are there any missing values ?\n",
    "df.isnull().sum()"
   ]
  },
  {
   "cell_type": "code",
   "execution_count": 212,
   "metadata": {
    "ExecuteTime": {
     "end_time": "2020-04-21T05:20:42.424892Z",
     "start_time": "2020-04-21T05:20:42.309201Z"
    }
   },
   "outputs": [
    {
     "name": "stdout",
     "output_type": "stream",
     "text": [
      "Number of duplicate rows = 680\n"
     ]
    },
    {
     "data": {
      "text/html": [
       "<div>\n",
       "<style scoped>\n",
       "    .dataframe tbody tr th:only-of-type {\n",
       "        vertical-align: middle;\n",
       "    }\n",
       "\n",
       "    .dataframe tbody tr th {\n",
       "        vertical-align: top;\n",
       "    }\n",
       "\n",
       "    .dataframe thead th {\n",
       "        text-align: right;\n",
       "    }\n",
       "</style>\n",
       "<table border=\"1\" class=\"dataframe\">\n",
       "  <thead>\n",
       "    <tr style=\"text-align: right;\">\n",
       "      <th></th>\n",
       "      <th>Date</th>\n",
       "      <th>Bill Number</th>\n",
       "      <th>Item Desc</th>\n",
       "      <th>Time</th>\n",
       "      <th>Quantity</th>\n",
       "      <th>Rate</th>\n",
       "      <th>Tax</th>\n",
       "      <th>Discount</th>\n",
       "      <th>Total</th>\n",
       "      <th>Category</th>\n",
       "    </tr>\n",
       "  </thead>\n",
       "  <tbody>\n",
       "    <tr>\n",
       "      <th>198</th>\n",
       "      <td>2010-04-01</td>\n",
       "      <td>G0470211</td>\n",
       "      <td>B.M.T. PANINI</td>\n",
       "      <td>19:42:27</td>\n",
       "      <td>1</td>\n",
       "      <td>105.0</td>\n",
       "      <td>24.94</td>\n",
       "      <td>0.0</td>\n",
       "      <td>129.94</td>\n",
       "      <td>FOOD</td>\n",
       "    </tr>\n",
       "    <tr>\n",
       "      <th>199</th>\n",
       "      <td>2010-04-01</td>\n",
       "      <td>G0470211</td>\n",
       "      <td>B.M.T. PANINI</td>\n",
       "      <td>19:42:27</td>\n",
       "      <td>1</td>\n",
       "      <td>105.0</td>\n",
       "      <td>24.94</td>\n",
       "      <td>0.0</td>\n",
       "      <td>129.94</td>\n",
       "      <td>FOOD</td>\n",
       "    </tr>\n",
       "    <tr>\n",
       "      <th>244</th>\n",
       "      <td>2010-04-01</td>\n",
       "      <td>G0470270</td>\n",
       "      <td>B.M.T. PANINI</td>\n",
       "      <td>00:08:20</td>\n",
       "      <td>1</td>\n",
       "      <td>105.0</td>\n",
       "      <td>24.94</td>\n",
       "      <td>0.0</td>\n",
       "      <td>129.94</td>\n",
       "      <td>FOOD</td>\n",
       "    </tr>\n",
       "    <tr>\n",
       "      <th>551</th>\n",
       "      <td>2010-05-01</td>\n",
       "      <td>G0474965</td>\n",
       "      <td>PHILLYCREAM CHEESE &amp;CHILLY PAN</td>\n",
       "      <td>13:33:51</td>\n",
       "      <td>1</td>\n",
       "      <td>105.0</td>\n",
       "      <td>24.94</td>\n",
       "      <td>0.0</td>\n",
       "      <td>129.94</td>\n",
       "      <td>FOOD</td>\n",
       "    </tr>\n",
       "    <tr>\n",
       "      <th>588</th>\n",
       "      <td>2010-05-01</td>\n",
       "      <td>G0475009</td>\n",
       "      <td>B.M.T. PANINI</td>\n",
       "      <td>17:12:21</td>\n",
       "      <td>1</td>\n",
       "      <td>105.0</td>\n",
       "      <td>24.94</td>\n",
       "      <td>0.0</td>\n",
       "      <td>129.94</td>\n",
       "      <td>FOOD</td>\n",
       "    </tr>\n",
       "    <tr>\n",
       "      <th>...</th>\n",
       "      <td>...</td>\n",
       "      <td>...</td>\n",
       "      <td>...</td>\n",
       "      <td>...</td>\n",
       "      <td>...</td>\n",
       "      <td>...</td>\n",
       "      <td>...</td>\n",
       "      <td>...</td>\n",
       "      <td>...</td>\n",
       "      <td>...</td>\n",
       "    </tr>\n",
       "    <tr>\n",
       "      <th>144615</th>\n",
       "      <td>2010-10-31</td>\n",
       "      <td>G0506562</td>\n",
       "      <td>DOPPIO</td>\n",
       "      <td>19:08:48</td>\n",
       "      <td>1</td>\n",
       "      <td>60.0</td>\n",
       "      <td>14.25</td>\n",
       "      <td>0.0</td>\n",
       "      <td>74.25</td>\n",
       "      <td>BEVERAGE</td>\n",
       "    </tr>\n",
       "    <tr>\n",
       "      <th>144727</th>\n",
       "      <td>2010-10-31</td>\n",
       "      <td>G0506566</td>\n",
       "      <td>CHEESE CAKE OF THE WEEK</td>\n",
       "      <td>19:20:52</td>\n",
       "      <td>1</td>\n",
       "      <td>105.0</td>\n",
       "      <td>24.94</td>\n",
       "      <td>0.0</td>\n",
       "      <td>129.94</td>\n",
       "      <td>FOOD</td>\n",
       "    </tr>\n",
       "    <tr>\n",
       "      <th>145129</th>\n",
       "      <td>2010-12-31</td>\n",
       "      <td>G0517963</td>\n",
       "      <td>CAPPUCCINO</td>\n",
       "      <td>20:50:13</td>\n",
       "      <td>1</td>\n",
       "      <td>60.0</td>\n",
       "      <td>14.25</td>\n",
       "      <td>0.0</td>\n",
       "      <td>74.25</td>\n",
       "      <td>BEVERAGE</td>\n",
       "    </tr>\n",
       "    <tr>\n",
       "      <th>145255</th>\n",
       "      <td>2010-12-31</td>\n",
       "      <td>G0517869</td>\n",
       "      <td>PHILLYCREAM CHEESE &amp;CHILLY PAN</td>\n",
       "      <td>15:12:41</td>\n",
       "      <td>1</td>\n",
       "      <td>105.0</td>\n",
       "      <td>24.94</td>\n",
       "      <td>0.0</td>\n",
       "      <td>129.94</td>\n",
       "      <td>FOOD</td>\n",
       "    </tr>\n",
       "    <tr>\n",
       "      <th>145315</th>\n",
       "      <td>2010-12-31</td>\n",
       "      <td>G0518126</td>\n",
       "      <td>PHILLYCREAM CHEESE &amp;CHILLY PAN</td>\n",
       "      <td>05:02:24</td>\n",
       "      <td>1</td>\n",
       "      <td>105.0</td>\n",
       "      <td>24.94</td>\n",
       "      <td>0.0</td>\n",
       "      <td>129.94</td>\n",
       "      <td>FOOD</td>\n",
       "    </tr>\n",
       "  </tbody>\n",
       "</table>\n",
       "<p>680 rows × 10 columns</p>\n",
       "</div>"
      ],
      "text/plain": [
       "             Date Bill Number                        Item Desc      Time  \\\n",
       "198    2010-04-01     G0470211  B.M.T. PANINI                   19:42:27   \n",
       "199    2010-04-01     G0470211  B.M.T. PANINI                   19:42:27   \n",
       "244    2010-04-01     G0470270  B.M.T. PANINI                   00:08:20   \n",
       "551    2010-05-01     G0474965  PHILLYCREAM CHEESE &CHILLY PAN  13:33:51   \n",
       "588    2010-05-01     G0475009  B.M.T. PANINI                   17:12:21   \n",
       "...           ...          ...                             ...       ...   \n",
       "144615 2010-10-31     G0506562  DOPPIO                          19:08:48   \n",
       "144727 2010-10-31     G0506566  CHEESE CAKE OF THE WEEK         19:20:52   \n",
       "145129 2010-12-31     G0517963  CAPPUCCINO                      20:50:13   \n",
       "145255 2010-12-31     G0517869  PHILLYCREAM CHEESE &CHILLY PAN  15:12:41   \n",
       "145315 2010-12-31     G0518126  PHILLYCREAM CHEESE &CHILLY PAN  05:02:24   \n",
       "\n",
       "        Quantity   Rate    Tax  Discount   Total  Category  \n",
       "198            1  105.0  24.94       0.0  129.94      FOOD  \n",
       "199            1  105.0  24.94       0.0  129.94      FOOD  \n",
       "244            1  105.0  24.94       0.0  129.94      FOOD  \n",
       "551            1  105.0  24.94       0.0  129.94      FOOD  \n",
       "588            1  105.0  24.94       0.0  129.94      FOOD  \n",
       "...          ...    ...    ...       ...     ...       ...  \n",
       "144615         1   60.0  14.25       0.0   74.25  BEVERAGE  \n",
       "144727         1  105.0  24.94       0.0  129.94      FOOD  \n",
       "145129         1   60.0  14.25       0.0   74.25  BEVERAGE  \n",
       "145255         1  105.0  24.94       0.0  129.94      FOOD  \n",
       "145315         1  105.0  24.94       0.0  129.94      FOOD  \n",
       "\n",
       "[680 rows x 10 columns]"
      ]
     },
     "execution_count": 212,
     "metadata": {},
     "output_type": "execute_result"
    }
   ],
   "source": [
    "## Are there any duplicate records\n",
    "\n",
    "# Check for duplicate data\n",
    "\n",
    "dups = df.duplicated()\n",
    "print('Number of duplicate rows = %d' % (dups.sum()))\n",
    "\n",
    "df[dups]"
   ]
  },
  {
   "cell_type": "code",
   "execution_count": 231,
   "metadata": {},
   "outputs": [],
   "source": [
    "df.to_excel(\"Cafe_Data_MRA_Cleaned.xlsx\")"
   ]
  }
 ],
 "metadata": {
  "colab": {
   "collapsed_sections": [],
   "name": "Multiple_Linear_Regression_Food_Solution_final.ipynb",
   "provenance": []
  },
  "kernelspec": {
   "display_name": "Python 3",
   "language": "python",
   "name": "python3"
  },
  "language_info": {
   "codemirror_mode": {
    "name": "ipython",
    "version": 3
   },
   "file_extension": ".py",
   "mimetype": "text/x-python",
   "name": "python",
   "nbconvert_exporter": "python",
   "pygments_lexer": "ipython3",
   "version": "3.7.4"
  },
  "toc": {
   "base_numbering": 1,
   "nav_menu": {},
   "number_sections": true,
   "sideBar": true,
   "skip_h1_title": false,
   "title_cell": "Table of Contents",
   "title_sidebar": "Contents",
   "toc_cell": false,
   "toc_position": {},
   "toc_section_display": true,
   "toc_window_display": false
  },
  "varInspector": {
   "cols": {
    "lenName": 16,
    "lenType": 16,
    "lenVar": 40
   },
   "kernels_config": {
    "python": {
     "delete_cmd_postfix": "",
     "delete_cmd_prefix": "del ",
     "library": "var_list.py",
     "varRefreshCmd": "print(var_dic_list())"
    },
    "r": {
     "delete_cmd_postfix": ") ",
     "delete_cmd_prefix": "rm(",
     "library": "var_list.r",
     "varRefreshCmd": "cat(var_dic_list()) "
    }
   },
   "types_to_exclude": [
    "module",
    "function",
    "builtin_function_or_method",
    "instance",
    "_Feature"
   ],
   "window_display": false
  }
 },
 "nbformat": 4,
 "nbformat_minor": 1
}
